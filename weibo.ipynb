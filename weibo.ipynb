{
 "cells": [
  {
   "cell_type": "code",
   "execution_count": 1,
   "metadata": {
    "collapsed": false
   },
   "outputs": [],
   "source": [
    "import jieba\n",
    "import time\n",
    "import scipy as sp\n",
    "import sklearn\n",
    "from sklearn.linear_model import SGDClassifier\n",
    "\n",
    "import pandas as pd\n",
    "import numpy as np\n",
    "import matplotlib.pyplot as plt\n",
    "%matplotlib inline\n",
    "\n",
    "STOPWORD = { u\"的\", u\"了\", u\"在\", u\"是\", u\"我\", u\"有\", u\"和\", u\"就\",  \n",
    "        u\"不\", u\"人\", u\"都\", u\"一\", u\"一个\", u\"上\", u\"也\", u\"很\", u\"到\", u\"说\", u\"要\", u\"去\", u\"你\",  \n",
    "        u\"会\", u\"着\", u\"没有\", u\"看\", u\"好\", u\"自己\", u\"这\" }"
   ]
  },
  {
   "cell_type": "code",
   "execution_count": 2,
   "metadata": {
    "collapsed": false
   },
   "outputs": [],
   "source": [
    "# -*- coding:gb2312 -*-\n",
    "#print train_data.split('\\t')[3]#.decode(\"utf-8\").encode(\"gbk\")"
   ]
  },
  {
   "cell_type": "code",
   "execution_count": 3,
   "metadata": {
    "collapsed": false
   },
   "outputs": [],
   "source": [
    "test_data = []\n",
    "with open(\"weibo_predict_data.txt\") as infile:\n",
    "    for line in infile.readlines():\n",
    "        line = line.split('\\t')\n",
    "        tmp = {\"uid\": line[0], \"mid\":line[1], \"time\":line[2], \"content\":line[3]}\n",
    "        test_data.append(tmp)"
   ]
  },
  {
   "cell_type": "code",
   "execution_count": 4,
   "metadata": {
    "collapsed": false
   },
   "outputs": [],
   "source": [
    "train_data = []\n",
    "with open(\"weibo_train_data.txt\") as infile:\n",
    "    for line in infile.readlines():\n",
    "        line = line.split('\\t')\n",
    "        tmp = {\"uid\": line[0], \"mid\":line[1], \"time\":line[2], \"forward_count\":int(line[3]), \n",
    "               \"comment_count\":int(line[4]), \"like_count\": int(line[5]), \"content\":line[6]}\n",
    "        train_data.append(tmp)"
   ]
  },
  {
   "cell_type": "code",
   "execution_count": 5,
   "metadata": {
    "collapsed": false
   },
   "outputs": [],
   "source": [
    "train_uids = set([train_data[i][\"uid\"] for i in xrange(len(train_data))])"
   ]
  },
  {
   "cell_type": "code",
   "execution_count": 6,
   "metadata": {
    "collapsed": true
   },
   "outputs": [],
   "source": [
    "test_uids = set([test_data[i][\"uid\"] for i in xrange(len(test_data))])"
   ]
  },
  {
   "cell_type": "code",
   "execution_count": 7,
   "metadata": {
    "collapsed": false
   },
   "outputs": [
    {
     "name": "stdout",
     "output_type": "stream",
     "text": [
      "45671 24818 23604 46885 1214\n"
     ]
    }
   ],
   "source": [
    "print len(train_uids), len(test_uids), len(train_uids & test_uids), len(train_uids | test_uids), len(test_uids - train_uids)"
   ]
  },
  {
   "cell_type": "code",
   "execution_count": 8,
   "metadata": {
    "collapsed": false
   },
   "outputs": [
    {
     "data": {
      "image/png": "[encoded data removed]",
      "text/plain": [
       "<matplotlib.figure.Figure at 0x10669b450>"
      ]
     },
     "metadata": {},
     "output_type": "display_data"
    }
   ],
   "source": [
    "plt.hist(([train_data[i][\"forward_count\"] for i in xrange(len(train_data)) if train_data[i][\"forward_count\"]!=0]), \n",
    "         bins=100)\n",
    "plt.ylim([0,1000])\n",
    "plt.show()"
   ]
  },
  {
   "cell_type": "code",
   "execution_count": 9,
   "metadata": {
    "collapsed": false
   },
   "outputs": [
    {
     "data": {
      "text/plain": [
       "1626750"
      ]
     },
     "execution_count": 9,
     "metadata": {},
     "output_type": "execute_result"
    }
   ],
   "source": [
    "len([train_data[i][\"forward_count\"] for i in xrange(len(train_data))])"
   ]
  },
  {
   "cell_type": "markdown",
   "metadata": {},
   "source": [
    "\n",
    "##BUILD MODEL"
   ]
  },
  {
   "cell_type": "code",
   "execution_count": 10,
   "metadata": {
    "collapsed": false
   },
   "outputs": [
    {
     "name": "stderr",
     "output_type": "stream",
     "text": [
      "Building prefix dict from /Users/toby/anaconda/lib/python2.7/site-packages/jieba/dict.txt ...\n",
      "DEBUG:jieba:Building prefix dict from /Users/toby/anaconda/lib/python2.7/site-packages/jieba/dict.txt ...\n",
      "Loading model from cache /var/folders/bq/svz9rm5s3x5clz2bzxzqmhd00000gp/T/jieba.cache\n",
      "DEBUG:jieba:Loading model from cache /var/folders/bq/svz9rm5s3x5clz2bzxzqmhd00000gp/T/jieba.cache\n",
      "Loading model cost 0.554 seconds.\n",
      "DEBUG:jieba:Loading model cost 0.554 seconds.\n",
      "Prefix dict has been built succesfully.\n",
      "DEBUG:jieba:Prefix dict has been built succesfully.\n"
     ]
    },
    {
     "name": "stdout",
     "output_type": "stream",
     "text": [
      "0\n",
      "10000\n",
      "Time Elapsed: 11.1711220741\n"
     ]
    }
   ],
   "source": [
    "import random\n",
    "start = time.time()\n",
    "training_data = []\n",
    "training_labels = []\n",
    "all_words = {}\n",
    "random.shuffle(train_data)\n",
    "for i in xrange(len(train_data[0:20000])):\n",
    "    if i%10000==0: print i\n",
    "    if train_data[i][\"forward_count\"]<1:\n",
    "        training_labels.append(1)\n",
    "        \n",
    "    else:\n",
    "        training_labels.append(0)\n",
    "    \n",
    "    tmp_dict= {}\n",
    "    for word in jieba.cut(train_data[i][\"content\"], cut_all=False):\n",
    "        if word in STOPWORD: continue\n",
    "        if not all_words.has_key(word): all_words[word]=0\n",
    "        if not tmp_dict.has_key(word): tmp_dict[word]=0\n",
    "        tmp_dict[word]+=1\n",
    "        all_words[word]+=1\n",
    "    \n",
    "    training_data.append(tmp_dict)\n",
    "\n",
    "print \"Time Elapsed:\", (time.time()-start)"
   ]
  },
  {
   "cell_type": "code",
   "execution_count": 11,
   "metadata": {
    "collapsed": false
   },
   "outputs": [
    {
     "data": {
      "text/plain": [
       "16680"
      ]
     },
     "execution_count": 11,
     "metadata": {},
     "output_type": "execute_result"
    }
   ],
   "source": [
    "sum(np.array(training_labels)==1)"
   ]
  },
  {
   "cell_type": "code",
   "execution_count": 12,
   "metadata": {
    "collapsed": false
   },
   "outputs": [],
   "source": [
    "index_to_word = []\n",
    "word_to_index = {}\n",
    "for key, value in all_words.iteritems():\n",
    "    word_to_index[key] = len(index_to_word)\n",
    "    index_to_word.append(key)"
   ]
  },
  {
   "cell_type": "code",
   "execution_count": 13,
   "metadata": {
    "collapsed": false
   },
   "outputs": [
    {
     "name": "stdout",
     "output_type": "stream",
     "text": [
      "Time Elapsed: 1.31136608124\n"
     ]
    }
   ],
   "source": [
    "start = time.time()\n",
    "all_data_matrix = np.zeros(shape = [len(training_data), len(word_to_index)])\n",
    "for index, words in enumerate(training_data):\n",
    "    for word, value in words.iteritems():\n",
    "        all_data_matrix[index][word_to_index[word]] = value\n",
    "        \n",
    "train_matrix = all_data_matrix[0:len(all_data_matrix)*3/4]\n",
    "test_matrix = all_data_matrix[len(all_data_matrix)*3/4:]\n",
    "train_label = training_labels[0:len(all_data_matrix)*3/4]\n",
    "test_label = training_labels[len(all_data_matrix)*3/4:]\n",
    "\n",
    "#train_matrix = sp.sparse.csc_matrix(all_data_matrix[0:len(all_data_matrix)*3/4])\n",
    "#test_matrix = sp.sparse.csc_matrix(all_data_matrix[len(all_data_matrix)*3/4:])\n",
    "\n",
    "        \n",
    "print \"Time Elapsed:\", time.time()-start"
   ]
  },
  {
   "cell_type": "code",
   "execution_count": 14,
   "metadata": {
    "collapsed": false
   },
   "outputs": [
    {
     "name": "stdout",
     "output_type": "stream",
     "text": [
      "Time Elapsed: 12.2032101154\n",
      "Accuracy is 0.836\n"
     ]
    }
   ],
   "source": [
    "start = time.time()\n",
    "classifier = SGDClassifier(loss='hinge', penalty='l2', alpha=1e-3, n_iter=5, random_state=42)\n",
    "classifier.fit(train_matrix, train_label)\n",
    "print \"Time Elapsed:\", (time.time()-start)\n",
    "print \"Accuracy is\", np.mean(classifier.predict(test_matrix)==test_label)"
   ]
  },
  {
   "cell_type": "code",
   "execution_count": 15,
   "metadata": {
    "collapsed": false
   },
   "outputs": [
    {
     "name": "stdout",
     "output_type": "stream",
     "text": [
      "@\n",
      "焦\n",
      "豆豆\n",
      "cs\n",
      " \n",
      "今天\n",
      "肿\n",
      "么\n",
      "加班\n",
      "。\n",
      "。\n",
      "。\n",
      "\r\n",
      "\n"
     ]
    }
   ],
   "source": [
    "for word in jieba.cut(train_data[i][\"content\"], cut_all=False):\n",
    "    if word in STOPWORD: continue\n",
    "    if word==u\"的\": break\n",
    "    print word"
   ]
  },
  {
   "cell_type": "code",
   "execution_count": 16,
   "metadata": {
    "collapsed": false
   },
   "outputs": [
    {
     "name": "stdout",
     "output_type": "stream",
     "text": [
      "#咕咚智能手环2#告诉我，我从2014年8月6日 21:30 到 8月7日 23:10,走了 13072 步，2671 米，燃烧 461.7 大卡; 睡眠 6 小时 40 分钟。这是我的数据图表，快来@咕咚网 和我PK一下！ http://t.cn/RPoaHGB\n",
      "0\n",
      "点赞抢100M4G流量，分享活动还可抽可口可乐！速速参加！http://t.cn/RzSR6DX\n",
      "0\n",
      "#咕咚智能手环2#告诉我，我从2014年8月10日 22:20 到 8月11日 12:50,走了 3450 步，2769 米，燃烧 123.3 大卡; 睡眠 5 小时 20 分钟。这是我的数据图表，快来@咕咚网 和我PK一下！ http://t.cn/RPpDyg6\n",
      "0\n",
      "Hi，我在用mo生活客户端，海量商品在线即可购买，现金、话费都能支付，还有各种折扣信息、生活资讯，感觉真的很赞，想赶紧与你分享下！下载地址是 http://t.cn/8sRbZZX ，发送短信“A”至106585855，也可以获取下载链接，你快试试吧！\n",
      "0\n",
      "江苏移动mo生活客户端刮刮乐又来袭，话费、品牌礼金券、电影礼金券免费送，关注微信：shlm12580 更有机会赢400元话费。马上分享给小伙伴们吧！下载地址是   http://t.cn/8sRbZZX  ，发送短信“A”至106585855，也可以获取下载链接。\n",
      "0\n",
      "「#金龙鱼阳光葵花籽油##欧洲阳光Style公益跑#阳光奔跑，跬步大爱，6430份母亲邮包，让改变，在贫困妈妈身边，悄然发生。http://t.cn/RPoXaNl」下载咕咚:http://t.cn/RvXqyLY\n",
      "0\n",
      "Hi，我在使用mo生活客户端，海量商品在线即可购买，现金、话费都能支付，还有各种折扣信息、生活资讯，感觉真的很赞，想赶紧与你分享下！下载地址是   http://t.cn/8sRbZZX  ，发送短信“A”至106585855，也可以获取下载链接，你快试试吧！\n",
      "0\n",
      "关于@咕咚网 的投票【#世界杯咕咚神预测#比利时VS美国比分竞猜】，挺赞的！先转给你们，大家帮我投一票吧：http://t.cn/Rvm8WgZ\n",
      "0\n",
      "【江苏移动又送福利啦】盆友们赶紧一起来砍价抢流量，世界杯官方手机SONY T2分分钟砍到不要钱，还有流量免费抢，最大10个G！流量不是梦，眼红快行动！！ http://t.cn/RvxuHlk\n",
      "0\n",
      "#咕咚智能手环2#告诉我，我从2014年8月9日 10:10 到 10:30, 走了 18 步，14 米，燃烧 0.9 大卡。这是我的运动状态图表，快来@咕咚网 和我PK一下！ http://t.cn/RP9nQsV\n",
      "0\n",
      "#咕咚糖果#告诉我，我从2014年6月30日 22:40 到 7月1日 23:50, 走了 27371 步，18360 米，燃烧 2110.6 大卡。这是我的运动状态图表，快来@咕咚网 和我PK一下！ http://t.cn/RvuJnhV\n",
      "0\n",
      "#咕咚智能手环2#告诉我，我从2014年8月8日 11:30 到 14:20, 走了 478 步，383 米，燃烧 18.5 大卡。这是我的运动状态图表，快来@咕咚网 和我PK一下！ http://t.cn/RPKVzBv\n",
      "0\n",
      "#年尾大促UP，有多便宜你懂的！#小伙伴们赶紧参与活动！圣诞树上摘礼物赢取购物礼金券啦！只抢12天！双旦狂欢12月5日-1月5日，全年好货大放送！\n",
      "0\n",
      "Hi，我在用mo生活客户端，海量商品在线即可购买，现金、话费都能支付，还有各种折扣信息、生活资讯，感觉真的很赞，想赶紧与你分享下！下载地址是 http://t.cn/RzD0PTA ，发送短信“A”至106585855，也可以获取下载链接，你快试试吧！\n",
      "0\n",
      "Hi，我在用mo生活客户端，海量商品在线即可购买，现金、话费都能支付，还有各种折扣信息、生活资讯，感觉真的很赞，想赶紧与你分享下！下载地址是 http://t.cn/8sRbZZX ，发送短信“A”至106585855，也可以获取下载链接，你快试试吧！\n",
      "0\n",
      "Hi，我在用mo生活客户端，海量商品在线即可购买，现金、话费都能支付，还有各种折扣信息、生活资讯，感觉真的很赞，想赶紧与你分享下！下载地址是 http://t.cn/RzabWz4 ，发送短信“A”至106585855，也可以获取下载链接，你快试试吧！\n",
      "0\n",
      "Hi，我在使用mo生活客户端，海量商品在线即可购买，现金、话费都能支付，还有各种折扣信息、生活资讯，感觉真的很赞，想赶紧与你分享下！下载地址是   http://t.cn/8sRbZZX  ，发送短信“A”至106585855，也可以获取下载链接，你快试试吧！\n",
      "0\n",
      "#咕咚智能手环2#告诉我，我从2014年8月9日 10:20 到 11:20, 走了 543 步，435 米，燃烧 21.9 大卡。这是我的运动状态图表，快来@咕咚网 和我PK一下！ http://t.cn/RP933w1\n",
      "0\n",
      "「 #金龙鱼阳光葵花籽油##欧洲阳光Style公益跑#阳光奔跑，跬步大爱，6430份母亲邮包，让改变，在贫困妈妈身边，悄然发生。http://t.cn/RPoXaNl 」下载咕咚:http://t.cn/RvXqyLY\n",
      "0\n",
      "江苏移动mo生活客户端刮刮乐又来袭，话费、品牌礼金券、电影礼金券免费送，关注微信：shlm12580 更有机会赢400元话费。马上分享给小伙伴们吧！下载地址是   http://t.cn/RZwyuzr  ，发送短信“A”至106585855，也可以获取下载链接。\n",
      "0\n",
      "#咕咚智能手环2#告诉我，我从2014年8月9日 10:50 到 12:10, 走了 1260 步，1011 米，燃烧 44.3 大卡。这是我的运动状态图表，快来@咕咚网 和我PK一下！ http://t.cn/RP9DLPp\n",
      "0\n",
      "Hi，我在用mo生活客户端，海量商品在线即可购买，现金、话费都能支付，还有各种折扣信息、生活资讯，感觉真的很赞，想赶紧与你分享下！下载地址是 http://t.cn/8sRbZZX ，发送短信“A”至106585855，也可以获取下载链接，你快试试吧！\n",
      "0\n",
      "#咕咚智能手环2#告诉我，我从2014年8月10日 08:00 到 22:20, 走了 10960 步，9928 米，燃烧 385.9 大卡。这是我的运动状态图表，快来@咕咚网 和我PK一下！ http://t.cn/RPN1x8J\n",
      "0\n",
      "#咕咚糖果#告诉我，我从2014年7月1日 23:40 到 7月2日 22:50, 走了 28443 步，20222 米，燃烧 2802.5 大卡。这是我的运动状态图表，快来@咕咚网 和我PK一下！ http://t.cn/Rv3ozzP\n",
      "0\n",
      "Hi，我在用mo生活客户端，海量商品在线即可购买，现金、话费都能支付，还有各种折扣信息、生活资讯，感觉真的很赞，想赶紧与你分享下！下载地址是 http://t.cn/RzXa5Zk ，发送短信“A”至106585855，也可以获取下载链接，你快试试吧！\n",
      "0\n",
      "Hi，我在用mo生活客户端，海量商品在线即可购买，现金、话费都能支付，还有各种折扣信息、生活资讯，感觉真的很赞，想赶紧与你分享下！下载地址是 http://t.cn/8sRbZZX ，发送短信“A”至106585855，也可以获取下载链接，你快试试吧！\n",
      "0\n",
      "关于@咕咚网 的投票【#世界杯咕咚神预测#阿根廷VS瑞士比分竞猜！】，挺赞的！先转给你们，大家帮我投一票吧：http://t.cn/RvmQnSL\n",
      "0\n",
      "关于@咕咚网 的投票【#世界杯咕咚神预测#巴西VS德国】，挺赞的！先转给你们，大家帮我投一票吧：http://t.cn/Rveqv8S\n",
      "0\n",
      "Hi，我在使用mo生活客户端，海量商品在线即可购买，现金、话费都能支付，还有各种折扣信息、生活资讯，感觉真的很赞，想赶紧与你分享下！下载地址是   http://t.cn/RzyV7FW  ，发送短信“A”至106585855，也可以获取下载链接，你快试试吧！\n",
      "0\n",
      "#年尾大促UP，有多便宜你懂的！#小伙伴们赶紧参与活动！圣诞树上摘礼物赢取购物礼金券啦！只抢12天！双旦狂欢12月5日-1月5日，全年好货大放送！\n",
      "0\n",
      "#咕咚智能手环2#告诉我，我从2014年8月8日 23:30 到 8月9日 10:30,走了 1521 步，1223 米，燃烧 60.2 大卡; 睡眠 6 小时 0 分钟。这是我的数据图表，快来@咕咚网 和我PK一下！ http://t.cn/RP9Er2U\n",
      "0\n",
      "「 我用#咕咚#完成走路5.89公里,用时97分钟,速度3.64公里/小时,444.5大卡。#只要跑起来#@都市快报@咕咚网 」下载咕咚:http://t.cn/RvXqyLY\n",
      "0\n",
      "「 #金龙鱼阳光葵花籽油##欧洲阳光Style公益跑#阳光奔跑，跬步大爱，6430份母亲邮包，让改变，在贫困妈妈身边，悄然发生。http://t.cn/RPoXaNl 」下载咕咚:http://t.cn/RvXqyLY\n",
      "0\n",
      "#年尾大促UP，有多便宜你懂的！#小伙伴们赶紧参与活动！圣诞树上摘礼物赢取购物礼金券啦！只抢12天！双旦狂欢12月5日-1月5日，全年好货大放送！\n",
      "0\n",
      "江苏移动mo生活客户端刮刮乐又来袭，话费、品牌礼金券、电影礼金券免费送，关注微信：shlm12580 更有机会赢400元话费。马上分享给小伙伴们吧！下载地址是   http://t.cn/8sRbZZX  ，发送短信“A”至106585855，也可以获取下载链接。\n",
      "0\n",
      "江苏移动mo生活客户端刮刮乐又来袭，话费、品牌礼金券、电影礼金券免费送，关注微信：shlm12580 更有机会赢400元话费。马上分享给小伙伴们吧！下载地址是   http://t.cn/8sRbZZX  ，发送短信“A”至106585855，也可以获取下载链接。\n",
      "0\n",
      "江苏移动mo生活客户端刮刮乐又来袭，话费、品牌礼金券、电影礼金券免费送，关注微信：shlm12580 更有机会赢400元话费。马上分享给小伙伴们吧！下载地址是   http://t.cn/RZLQgCL  ，发送短信“A”至106585855，也可以获取下载链接。\n",
      "0\n",
      "我参与了@咕咚网 发起的投票【#世界杯咕咚神预测# 巴西VS荷兰 比分竞猜】，我投给了\"巴西VS荷兰 90分钟 0：2\"这个选项。你也快来表态吧：http://t.cn/RvsruUk\n",
      "0\n",
      "我参与了@咕咚网 发起的投票【#世界杯咕咚神预测# 德国VS阿根廷 比分竞猜】，我投给了\"德国VS阿根廷 90分钟 德国胜其他\"这个选项。你也快来表态吧：http://t.cn/Rvsdpuy\n",
      "0\n",
      "我正在使用咕咚网 http://t.cn/h5QJOR 记录我的运动，来为我加油吧\n",
      "0\n",
      "#年尾大促UP，有多便宜你懂的！#小伙伴们赶紧参与活动！圣诞树上摘礼物赢取购物礼金券啦！只抢12天！双旦狂欢12月5日-1月5日，全年好货大放送！\n",
      "0\n",
      "江苏移动mo生活客户端刮刮乐又来袭，话费、品牌礼金券、电影礼金券免费送，关注微信：shlm12580 更有机会赢400元话费。马上分享给小伙伴们吧！下载地址是   http://t.cn/8sRbZZX  ，发送短信“A”至106585855，也可以获取下载链接。\n",
      "0\n",
      "关于@咕咚网 的投票【#世界杯咕咚神预测#比利时VS美国比分竞猜】，挺赞的！先转给你们，大家帮我投一票吧：http://t.cn/Rvm8WgZ\n",
      "0\n",
      "Hi，我在用mo生活客户端，海量商品在线即可购买，现金、话费都能支付，还有各种折扣信息、生活资讯，感觉真的很赞，想赶紧与你分享下！下载地址是 http://t.cn/RZvPEgJ ，发送短信“A”至106585855，也可以获取下载链接，你快试试吧！\n",
      "0\n",
      "#咕咚智能手环2#告诉我，我从2014年8月9日 21:00 到 8月10日 08:20,走了 2544 步，2312 米，燃烧 91.3 大卡; 睡眠 6 小时 30 分钟。这是我的数据图表，快来@咕咚网 和我PK一下！ http://t.cn/RPNwwPB\n",
      "0\n",
      "【江苏移动又送福利啦】盆友们赶紧一起来砍价抢流量，世界杯官方手机SONY T2分分钟砍到不要钱，还有流量免费抢，最大10个G！流量不是梦，眼红快行动！！ http://t.cn/RvxuHlk http://t.cn/RvxuHlk\n",
      "0\n",
      "#咕咚智能手环2#告诉我，我从2014年8月8日 20:30 到 23:50, 走了 7908 步，6337 米，燃烧 247.4 大卡。这是我的运动状态图表，快来@咕咚网 和我PK一下！ http://t.cn/RP97VXU\n",
      "0\n",
      "我参与了@咕咚网 发起的投票【#世界杯咕咚神预测#荷兰VS阿根廷比分竞猜】，我投给了\"荷兰VS阿根廷 90分钟 荷兰胜其他\"这个选项。你也快来表态吧：http://t.cn/RvDfYAb\n",
      "0\n",
      "关于@咕咚网 的投票【#世界杯咕咚神预测#阿根廷VS瑞士比分竞猜！】，挺赞的！先转给你们，大家帮我投一票吧：http://t.cn/RvmQnSL\n",
      "0\n",
      "#咕咚智能手环2#告诉我，我从2014年8月9日 11:50 到 21:10, 走了 8420 步，6748 米，燃烧 300.3 大卡。这是我的运动状态图表，快来@咕咚网 和我PK一下！ http://t.cn/RPCjqW8\n",
      "0\n",
      "江苏移动mo生活客户端刮刮乐又来袭，话费、品牌礼金券、电影礼金券免费送，关注微信：shlm12580 更有机会赢400元话费。马上分享给小伙伴们吧！下载地址是   http://t.cn/RZhiy9m  ，发送短信“A”至106585855，也可以获取下载链接。\n",
      "0\n",
      "Hi，我在使用mo生活客户端，海量商品在线即可购买，现金、话费都能支付，还有各种折扣信息、生活资讯，感觉真的很赞，想赶紧与你分享下！下载地址是   http://t.cn/8sRbZZX  ，发送短信“A”至106585855，也可以获取下载链接，你快试试吧！\n",
      "0\n",
      "Hi，我在用mo生活客户端，海量商品在线即可购买，现金、话费都能支付，还有各种折扣信息、生活资讯，感觉真的很赞，想赶紧与你分享下！下载地址是 http://t.cn/8sRbZZX ，发送短信“A”至106585855，也可以获取下载链接，你快试试吧！\n",
      "0\n",
      "Hi，我在使用mo生活客户端，海量商品在线即可购买，现金、话费都能支付，还有各种折扣信息、生活资讯，感觉真的很赞，想赶紧与你分享下！下载地址是   http://t.cn/8sRbZZX  ，发送短信“A”至106585855，也可以获取下载链接，你快试试吧！\n",
      "0\n",
      "我在咕咚运动参加#戴尔灵越够瘦才型#！跑跑跳跳不懈怠，动膘又减肉，我要加油！亲爱的小伙伴，陪我一起“够瘦才型”好不好？还有大奖拿哦～～～ @咕咚网 @戴尔中国 http://t.cn/RvNeetk\n",
      "0\n",
      "江苏移动mo生活客户端刮刮乐又来袭，话费、品牌礼金券、电影礼金券免费送，关注微信：shlm12580 更有机会赢400元话费。马上分享给小伙伴们吧！下载地址是   http://t.cn/8sRbZZX  ，发送短信“A”至106585855，也可以获取下载链接。\n",
      "0\n",
      "#年尾大促UP，有多便宜你懂的！#小伙伴们赶紧参与活动！圣诞树上摘礼物赢取购物礼金券啦！只抢12天！双旦狂欢12月5日-1月5日，全年好货大放送！\n",
      "0\n",
      "Hi，我在使用mo生活客户端，海量商品在线即可购买，现金、话费都能支付，还有各种折扣信息、生活资讯，感觉真的很赞，想赶紧与你分享下！下载地址是   http://t.cn/Rz2Fr4M  ，发送短信“A”至106585855，也可以获取下载链接，你快试试吧！\n",
      "0\n",
      "#咕咚智能手环2#告诉我，我从2014年8月7日 23:10 到 8月8日 11:50,走了 3721 步，2985 米，燃烧 141.9 大卡; 睡眠 6 小时 30 分钟。这是我的数据图表，快来@咕咚网 和我PK一下！ http://t.cn/RPK2S6R\n",
      "0\n",
      "江苏移动mo生活客户端刮刮乐又来袭，话费、品牌礼金券、电影礼金券免费送，关注微信：shlm12580 更有机会赢400元话费。马上分享给小伙伴们吧！下载地址是   http://t.cn/RZ2Ulte  ，发送短信“A”至106585855，也可以获取下载链接。\n",
      "0\n",
      "我正在使用咕咚网 http://t.cn/h5QJOR 记录我的运动，来为我加油吧\n",
      "0\n",
      "江苏移动mo生活客户端刮刮乐又来袭，话费、品牌礼金券、电影礼金券免费送，关注微信：shlm12580 更有机会赢400元话费。马上分享给小伙伴们吧！下载地址是   http://t.cn/8sRbZZX  ，发送短信“A”至106585855，也可以获取下载链接。\n",
      "0\n",
      "#咕咚智能手环2#告诉我，我从2014年8月8日 14:00 到 20:40, 走了 5360 步，4299 米，燃烧 212.9 大卡。这是我的运动状态图表，快来@咕咚网 和我PK一下！ http://t.cn/RPKmuzc\n",
      "0\n",
      "江苏移动mo生活客户端刮刮乐又来袭，话费、品牌礼金券、电影礼金券免费送，关注微信：shlm12580 更有机会赢400元话费。马上分享给小伙伴们吧！下载地址是   http://t.cn/RZy8rpz  ，发送短信“A”至106585855，也可以获取下载链接。\n",
      "0\n",
      "Hi，我在用mo生活客户端，海量商品在线即可购买，现金、话费都能支付，还有各种折扣信息、生活资讯，感觉真的很赞，想赶紧与你分享下！下载地址是 http://t.cn/8sRbZZX ，发送短信“A”至106585855，也可以获取下载链接，你快试试吧！\n",
      "0\n",
      "江苏移动mo生活客户端刮刮乐又来袭，话费、品牌礼金券、电影礼金券免费送，关注微信：shlm12580 更有机会赢400元话费。马上分享给小伙伴们吧！下载地址是   http://t.cn/RZzvyVq  ，发送短信“A”至106585855，也可以获取下载链接。\n",
      "0\n"
     ]
    }
   ],
   "source": [
    "for i in xrange(len(train_data)):\n",
    "    if train_data[i][\"uid\"]=='e640551a1764e35999211df55994f58e':# and \"@\" in train_data[i][\"content\"]:\n",
    "        print train_data[i][\"content\"], train_data[i][\"like_count\"]"
   ]
  },
  {
   "cell_type": "code",
   "execution_count": null,
   "metadata": {
    "collapsed": true
   },
   "outputs": [],
   "source": []
  }
 ],
 "metadata": {
  "kernelspec": {
   "display_name": "Python 2",
   "language": "python",
   "name": "python2"
  },
  "language_info": {
   "codemirror_mode": {
    "name": "ipython",
    "version": 2
   },
   "file_extension": ".py",
   "mimetype": "text/x-python",
   "name": "python",
   "nbconvert_exporter": "python",
   "pygments_lexer": "ipython2",
   "version": "2.7.9"
  }
 },
 "nbformat": 4,
 "nbformat_minor": 0
}
